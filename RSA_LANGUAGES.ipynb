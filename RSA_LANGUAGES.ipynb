{
 "cells": [
  {
   "cell_type": "markdown",
   "id": "0580dc16-83b6-4cf1-83c2-220cb71cda61",
   "metadata": {
    "jp-MarkdownHeadingCollapsed": true,
    "tags": []
   },
   "source": [
    "### NOXOLO FELICIA VILAKAZI"
   ]
  },
  {
   "cell_type": "markdown",
   "id": "f33698db-3bc6-42f1-8c93-ca029a89dbaa",
   "metadata": {},
   "source": [
    "# Language Identification Identification"
   ]
  },
  {
   "cell_type": "markdown",
   "id": "f32199ac-b1b7-4e55-b85a-813bb5e645a9",
   "metadata": {},
   "source": [
    "South Africa is a multicultural society that is characterised by its rich linguistic diversity. Language is an indispensable tool that can be used to deepen democracy and also contribute to the social, cultural, intellectual, economic and political life of the South African society.\n",
    "\n",
    "The country is multilingual with 11 official languages, each of which is guaranteed equal status. Most South Africans are multilingual and able to speak at least two or more of the official languages."
   ]
  },
  {
   "cell_type": "markdown",
   "id": "ac4a9afb-bd9f-4838-8b96-8bee599b8b58",
   "metadata": {},
   "source": [
    "<a id=\"cont\"></a>\n",
    "\n",
    "# Table of Contents\n",
    "\n",
    "<a href=#one>1. Importing Packages</a>\n",
    "\n",
    "<a href=#two>2. Loading Data</a>\n",
    "\n",
    "<a href=#two>3. Understand the Data</a>\n",
    "\n",
    "<a href=#three>4. Exploratory Data Analysis (EDA)</a>\n",
    "\n",
    "<a href=#three>3. Clean Data </a>\n",
    "\n",
    "<a href=#four>5. Data Engineering</a>\n",
    "\n",
    "<a href=#five>6. Modeling</a>\n",
    "\n",
    "<a href=#six>7. Model Performance</a>\n"
   ]
  },
  {
   "cell_type": "markdown",
   "id": "b990f547-9305-4d25-9787-bdbd5a38bbfb",
   "metadata": {},
   "source": [
    "## Importing Packages"
   ]
  },
  {
   "cell_type": "code",
   "execution_count": 20,
   "id": "ddada93f-fb3c-4bda-ba54-83c0343ad272",
   "metadata": {
    "tags": []
   },
   "outputs": [],
   "source": [
    "# Libraries for data loading, data manipulation and data visulisation\n",
    "import pandas as pd\n",
    "import numpy as np\n",
    "import matplotlib.pyplot as plt\n",
    "import seaborn as sns\n",
    "%matplotlib inline\n",
    "import re\n",
    "import nltk\n",
    "\n",
    "# Libraries for data preparation and model building\n",
    "from nltk.stem import WordNetLemmatizer\n",
    "from sklearn.model_selection import train_test_split\n",
    "from sklearn import metrics\n",
    "from nltk.stem import PorterStemmer\n",
    "from sklearn import preprocessing\n",
    "from sklearn.preprocessing import StandardScaler\n",
    "from sklearn.linear_model import Lasso\n",
    "from sklearn.tree import DecisionTreeRegressor\n",
    "from sklearn.ensemble import BaggingClassifier,ExtraTreesClassifier, RandomForestClassifier\n",
    "from sklearn.model_selection import KFold\n",
    "from sklearn.linear_model import LogisticRegression\n",
    "from sklearn.model_selection import GridSearchCV\n",
    "from sklearn.metrics import classification_report, accuracy_score\n",
    "from sklearn.pipeline import Pipeline\n",
    "from sklearn.feature_extraction.text import TfidfVectorizer\n",
    "from sklearn.tree import DecisionTreeClassifier\n",
    "from sklearn import svm\n",
    "from sklearn.feature_extraction.text import CountVectorizer\n",
    "from sklearn.svm import LinearSVC\n",
    "from sklearn.naive_bayes import GaussianNB\n",
    "from sklearn.naive_bayes import MultinomialNB\n",
    "from sklearn.neighbors import KNeighborsClassifier\n",
    "from sklearn.metrics import accuracy_score, confusion_matrix, classification_report\n",
    "from sklearn.linear_model import LogisticRegression\n",
    "from sklearn.svm import LinearSVC\n",
    "from sklearn.naive_bayes import BernoulliNB\n",
    "from sklearn.ensemble import GradientBoostingClassifier\n",
    "from sklearn.ensemble import RandomForestClassifier\n",
    "from sklearn.tree import DecisionTreeClassifier"
   ]
  },
  {
   "cell_type": "markdown",
   "id": "96de6cd8-1d7a-4885-ab8e-04ebfcb82e49",
   "metadata": {},
   "source": [
    "## Loading Data"
   ]
  },
  {
   "cell_type": "code",
   "execution_count": 2,
   "id": "df655a1c-15cf-4ac4-a377-b1bf39e04632",
   "metadata": {
    "tags": []
   },
   "outputs": [],
   "source": [
    "#reading the train set \n",
    "train_df=pd.read_csv('train_set.csv')\n",
    "#reading the train set \n",
    "test_df=pd.read_csv('test_set.csv')"
   ]
  },
  {
   "cell_type": "markdown",
   "id": "f87ec2f8-1e61-4e9c-bec3-c7c5ee11f3cd",
   "metadata": {},
   "source": [
    "# Understand dataset\n",
    "It allows you to understand the relationship between the features and the target variable. It also helps you understand what features are irrelevant for the model."
   ]
  },
  {
   "cell_type": "code",
   "execution_count": 3,
   "id": "fe014ade-eec1-42f2-aa6a-1619791f4da9",
   "metadata": {
    "tags": []
   },
   "outputs": [
    {
     "data": {
      "text/html": [
       "<div>\n",
       "<style scoped>\n",
       "    .dataframe tbody tr th:only-of-type {\n",
       "        vertical-align: middle;\n",
       "    }\n",
       "\n",
       "    .dataframe tbody tr th {\n",
       "        vertical-align: top;\n",
       "    }\n",
       "\n",
       "    .dataframe thead th {\n",
       "        text-align: right;\n",
       "    }\n",
       "</style>\n",
       "<table border=\"1\" class=\"dataframe\">\n",
       "  <thead>\n",
       "    <tr style=\"text-align: right;\">\n",
       "      <th></th>\n",
       "      <th>lang_id</th>\n",
       "      <th>text</th>\n",
       "    </tr>\n",
       "  </thead>\n",
       "  <tbody>\n",
       "    <tr>\n",
       "      <th>0</th>\n",
       "      <td>xho</td>\n",
       "      <td>umgaqo-siseko wenza amalungiselelo kumaziko ax...</td>\n",
       "    </tr>\n",
       "    <tr>\n",
       "      <th>1</th>\n",
       "      <td>xho</td>\n",
       "      <td>i-dha iya kuba nobulumko bokubeka umsebenzi na...</td>\n",
       "    </tr>\n",
       "    <tr>\n",
       "      <th>2</th>\n",
       "      <td>eng</td>\n",
       "      <td>the province of kwazulu-natal department of tr...</td>\n",
       "    </tr>\n",
       "    <tr>\n",
       "      <th>3</th>\n",
       "      <td>nso</td>\n",
       "      <td>o netefatša gore o ba file dilo ka moka tše le...</td>\n",
       "    </tr>\n",
       "    <tr>\n",
       "      <th>4</th>\n",
       "      <td>ven</td>\n",
       "      <td>khomishini ya ndinganyiso ya mbeu yo ewa maana...</td>\n",
       "    </tr>\n",
       "  </tbody>\n",
       "</table>\n",
       "</div>"
      ],
      "text/plain": [
       "  lang_id                                               text\n",
       "0     xho  umgaqo-siseko wenza amalungiselelo kumaziko ax...\n",
       "1     xho  i-dha iya kuba nobulumko bokubeka umsebenzi na...\n",
       "2     eng  the province of kwazulu-natal department of tr...\n",
       "3     nso  o netefatša gore o ba file dilo ka moka tše le...\n",
       "4     ven  khomishini ya ndinganyiso ya mbeu yo ewa maana..."
      ]
     },
     "execution_count": 3,
     "metadata": {},
     "output_type": "execute_result"
    }
   ],
   "source": [
    "#displaying the first rows\n",
    "train_df.head()"
   ]
  },
  {
   "cell_type": "markdown",
   "id": "9e39daea-0d49-4e78-928f-b8cfa7c86251",
   "metadata": {},
   "source": [
    "Checking the number of languages we have in the dataset and how many sentances does each category consist"
   ]
  },
  {
   "cell_type": "code",
   "execution_count": 4,
   "id": "11ffce46-ff32-444a-a31a-92e7abf6a510",
   "metadata": {
    "tags": []
   },
   "outputs": [
    {
     "data": {
      "text/plain": [
       "lang_id\n",
       "xho    3000\n",
       "eng    3000\n",
       "nso    3000\n",
       "ven    3000\n",
       "tsn    3000\n",
       "nbl    3000\n",
       "zul    3000\n",
       "ssw    3000\n",
       "tso    3000\n",
       "sot    3000\n",
       "afr    3000\n",
       "Name: count, dtype: int64"
      ]
     },
     "execution_count": 4,
     "metadata": {},
     "output_type": "execute_result"
    }
   ],
   "source": [
    "# There are 11 languages and 3000 sentenses in each category\n",
    "train_df[\"lang_id\"].value_counts() "
   ]
  },
  {
   "cell_type": "markdown",
   "id": "41c803f4-8aa6-405b-8df2-895397b2dfc3",
   "metadata": {},
   "source": [
    "each language consist of 300 sentances"
   ]
  },
  {
   "cell_type": "markdown",
   "id": "875f54bc-8cb5-44de-b6e2-7fab185dad15",
   "metadata": {},
   "source": [
    "# Exploratory Data Analysis(EDA)"
   ]
  },
  {
   "cell_type": "markdown",
   "id": "8ae33727-76fa-4dc8-aabf-f1380f6b9f35",
   "metadata": {},
   "source": [
    "checking also the datatype of our data"
   ]
  },
  {
   "cell_type": "code",
   "execution_count": 5,
   "id": "6694307f-20d2-41ca-9675-f6ddc4311e19",
   "metadata": {
    "tags": []
   },
   "outputs": [
    {
     "name": "stdout",
     "output_type": "stream",
     "text": [
      "<class 'pandas.core.frame.DataFrame'>\n",
      "RangeIndex: 33000 entries, 0 to 32999\n",
      "Data columns (total 2 columns):\n",
      " #   Column   Non-Null Count  Dtype \n",
      "---  ------   --------------  ----- \n",
      " 0   lang_id  33000 non-null  object\n",
      " 1   text     33000 non-null  object\n",
      "dtypes: object(2)\n",
      "memory usage: 515.8+ KB\n"
     ]
    }
   ],
   "source": [
    "# Verifying the data types and establishing if there are null values\n",
    "train_df.info()"
   ]
  },
  {
   "cell_type": "markdown",
   "id": "129fe18b-b4cb-4683-9d28-09a23e9a6a0d",
   "metadata": {},
   "source": [
    "looking for the shape of the train and test data"
   ]
  },
  {
   "cell_type": "code",
   "execution_count": 6,
   "id": "9b820cba-94a0-44df-adc7-d0aff024f9dd",
   "metadata": {
    "tags": []
   },
   "outputs": [
    {
     "data": {
      "text/plain": [
       "(33000, 2)"
      ]
     },
     "execution_count": 6,
     "metadata": {},
     "output_type": "execute_result"
    }
   ],
   "source": [
    "train_df.shape"
   ]
  },
  {
   "cell_type": "code",
   "execution_count": 7,
   "id": "f7bec311-c678-40bc-ba24-77ba4daf9d04",
   "metadata": {
    "tags": []
   },
   "outputs": [
    {
     "data": {
      "text/plain": [
       "(5682, 2)"
      ]
     },
     "execution_count": 7,
     "metadata": {},
     "output_type": "execute_result"
    }
   ],
   "source": [
    "test_df.shape"
   ]
  },
  {
   "cell_type": "markdown",
   "id": "e40db29f-df76-4d54-94e8-d9c32c095267",
   "metadata": {},
   "source": [
    "**Analysis of the language distribution in the dataset and pie chart**"
   ]
  },
  {
   "cell_type": "code",
   "execution_count": 18,
   "id": "b8ab3d8f-edb0-4730-acc4-2125375a9ffd",
   "metadata": {
    "tags": []
   },
   "outputs": [
    {
     "name": "stdout",
     "output_type": "stream",
     "text": [
      "6.4\n",
      "4.8\n"
     ]
    },
    {
     "ename": "NameError",
     "evalue": "name 'train_df' is not defined",
     "output_type": "error",
     "traceback": [
      "\u001b[1;31m---------------------------------------------------------------------------\u001b[0m",
      "\u001b[1;31mNameError\u001b[0m                                 Traceback (most recent call last)",
      "Cell \u001b[1;32mIn[18], line 10\u001b[0m\n\u001b[0;32m      7\u001b[0m plt\u001b[38;5;241m.\u001b[39mrcParams[\u001b[38;5;124m\"\u001b[39m\u001b[38;5;124mfigure.figsize\u001b[39m\u001b[38;5;124m\"\u001b[39m] \u001b[38;5;241m=\u001b[39m plot_size \n\u001b[0;32m      9\u001b[0m \u001b[38;5;66;03m# Distribution of sentences from the dataset\u001b[39;00m\n\u001b[1;32m---> 10\u001b[0m train_df\u001b[38;5;241m.\u001b[39mlang_id\u001b[38;5;241m.\u001b[39mvalue_counts()\u001b[38;5;241m.\u001b[39mplot(kind\u001b[38;5;241m=\u001b[39m\u001b[38;5;124m'\u001b[39m\u001b[38;5;124mbar\u001b[39m\u001b[38;5;124m'\u001b[39m, autopct\u001b[38;5;241m=\u001b[39m\u001b[38;5;124m'\u001b[39m\u001b[38;5;132;01m%1.0f\u001b[39;00m\u001b[38;5;132;01m%%\u001b[39;00m\u001b[38;5;124m'\u001b[39m)\n\u001b[0;32m     11\u001b[0m plt\u001b[38;5;241m.\u001b[39mtitle(\u001b[38;5;124m'\u001b[39m\u001b[38;5;124mDistribution of Sentences by Language\u001b[39m\u001b[38;5;124m'\u001b[39m)\n\u001b[0;32m     12\u001b[0m plt\u001b[38;5;241m.\u001b[39mxlabel(\u001b[38;5;124m'\u001b[39m\u001b[38;5;124mLanguage ID\u001b[39m\u001b[38;5;124m'\u001b[39m)\n",
      "\u001b[1;31mNameError\u001b[0m: name 'train_df' is not defined"
     ]
    }
   ],
   "source": [
    "plot_size = plt.rcParams[\"figure.figsize\"] \n",
    "print(plot_size[0]) \n",
    "print(plot_size[1])\n",
    "\n",
    "plot_size[0] = 8\n",
    "plot_size[1] = 8\n",
    "plt.rcParams[\"figure.figsize\"] = plot_size \n",
    "\n",
    "# Distribution of sentences from the dataset\n",
    "train_df.lang_id.value_counts().plot(kind='bar', autopct='%1.0f%%')\n",
    "plt.title('Distribution of Sentences by Language')\n",
    "plt.xlabel('Language ID')\n",
    "plt.ylabel('Count')\n",
    "plt.show()\n"
   ]
  },
  {
   "cell_type": "markdown",
   "id": "111f8fab-0424-437f-9cce-0a5755bf1677",
   "metadata": {},
   "source": [
    "As we saw under \"understand data\" this also prove the that all language categories have equal sentances"
   ]
  },
  {
   "cell_type": "code",
   "execution_count": 9,
   "id": "70ddec79-70c0-4f02-b6dc-5f31e0b88b4d",
   "metadata": {
    "tags": []
   },
   "outputs": [
    {
     "name": "stderr",
     "output_type": "stream",
     "text": [
      "C:\\Users\\Felicia Vilakazi\\anaconda3\\Lib\\site-packages\\seaborn\\axisgrid.py:118: UserWarning: The figure layout has changed to tight\n",
      "  self._figure.tight_layout(*args, **kwargs)\n"
     ]
    },
    {
     "data": {
      "image/png": "[encoded data removed]",
      "text/plain": [
       "<Figure size 3300x300 with 11 Axes>"
      ]
     },
     "metadata": {},
     "output_type": "display_data"
    }
   ],
   "source": [
    "# Understand the feature distributions\n",
    "# checking the length of each language\n",
    "train_df['length'] = train_df['text'].str.len()\n",
    "\n",
    "# Create Subplots for each class\n",
    "tweet= sns.FacetGrid(train_df,col=\"lang_id\" )\n",
    "tweet = tweet.map(plt.hist, 'length')\n",
    "tweet = plt.show()"
   ]
  },
  {
   "cell_type": "markdown",
   "id": "43f70fb4-9841-4165-b1cf-aed2278053b1",
   "metadata": {},
   "source": [
    "above we find that each language consist of 300 sentances or words, but when we are looking the length ot each language text we see that they are defferent. this can be caused by the number of spaces in each language text"
   ]
  },
  {
   "cell_type": "markdown",
   "id": "9c326929-ddd9-4a94-93a7-4978c88e4f1e",
   "metadata": {},
   "source": [
    "# Feature Engineering\n",
    "is the process of tranforming data to increase the predictive  performanceof machine learning models"
   ]
  },
  {
   "cell_type": "markdown",
   "id": "0f83b939-b138-475f-8576-bdf6844db8f5",
   "metadata": {},
   "source": [
    "### Classifying the independent and dependent variables"
   ]
  },
  {
   "cell_type": "code",
   "execution_count": 10,
   "id": "ca37784d-c901-4d14-b7eb-6a8b1fee5074",
   "metadata": {
    "tags": []
   },
   "outputs": [],
   "source": [
    "#text data is the independent variable of the training set\n",
    "X = train_df[\"text\"] \n",
    "#lang_id is the dependent variable of the training set\n",
    "y = train_df[\"lang_id\"]\n",
    "#text data is the independent variable of the test set\n",
    "X_tst = test_df['text'] "
   ]
  },
  {
   "cell_type": "markdown",
   "id": "6d36837c-87c0-4ea7-8272-66b561e0e4ed",
   "metadata": {},
   "source": [
    "### Text Preprocessing\n",
    "Cleaning our dataset to remove symbols that will determine the quality of our model. "
   ]
  },
  {
   "cell_type": "markdown",
   "id": "c3365952-9f44-4bc8-98e9-82010e264aec",
   "metadata": {},
   "source": [
    "#### Cleaning Data\n",
    "\n",
    "*  Convert words to lower Case  \n",
    "*  Removing punctuations\n",
    "\n",
    "####  Convert words to lower Case\n",
    "All Tweets are converted to lower case because when vectorization of tweets are done, lower and upper case numbers will be treated as different dimensions even thou some words may hold the same meaning. E.g. Zanele and zanele mean the same thing but will be considered different features when vectorized\n",
    "\n",
    "#### Removing punctuations\n",
    "Puncuations are removed because it is considered as noise and does not add value to features created"
   ]
  },
  {
   "cell_type": "code",
   "execution_count": 11,
   "id": "08900b11-4da8-4f38-8617-98618c19bf57",
   "metadata": {
    "tags": []
   },
   "outputs": [],
   "source": [
    "# creating a list for appending the preprocessed text\n",
    "datafm_list = []\n",
    "# iterating through all the text\n",
    "for text in X:\n",
    "       # removing the symbols and numbers\n",
    "        text = re.sub(r'[!@#$(),n\"%^*?:;~`0-9]', ' ', text)\n",
    "        # converting the text to lower case\n",
    "        text = text.lower()\n",
    "        # appending to data_list\n",
    "        datafm_list.append(text)"
   ]
  },
  {
   "cell_type": "code",
   "execution_count": 12,
   "id": "f1cf3a2f-0a9c-4cff-91e1-f1a23e5de82a",
   "metadata": {
    "tags": []
   },
   "outputs": [
    {
     "name": "stderr",
     "output_type": "stream",
     "text": [
      "C:\\Users\\Felicia Vilakazi\\AppData\\Local\\Temp\\ipykernel_83360\\1321412180.py:7: FutureWarning: Possible nested set at position 1\n",
      "  text = re.sub(r'[[]]', ' ', text)\n"
     ]
    }
   ],
   "source": [
    "# creating a list for appending the preprocessed text in the text data set\n",
    "datafm_list1 = []\n",
    "# iterating through all the text\n",
    "for text in X_tst:\n",
    "       # removing the symbols and numbers\n",
    "        text = re.sub(r'[!@#$(),n\"%^*?:;~`0-9]', ' ', text)\n",
    "        text = re.sub(r'[[]]', ' ', text)\n",
    "        # converting the text to lower case\n",
    "        text = text.lower()\n",
    "        # appending to data_list\n",
    "        datafm_list1.append(text)"
   ]
  },
  {
   "cell_type": "markdown",
   "id": "bf6d1b22-96dc-4740-810d-33199dff0c71",
   "metadata": {},
   "source": [
    "### Vectorization\n",
    "is the process of avoiding explicit loops in a code to reduce the execution time.\n",
    "\n",
    "Our model should take in numerical data.Using CountVectorizer to convert our dataset from text to numerical form."
   ]
  },
  {
   "cell_type": "code",
   "execution_count": 13,
   "id": "0c5f62a9-5469-40d6-98d6-1cf00f55df24",
   "metadata": {
    "tags": []
   },
   "outputs": [],
   "source": [
    "cv = CountVectorizer()\n",
    "X = cv.fit_transform(X)"
   ]
  },
  {
   "cell_type": "code",
   "execution_count": 27,
   "id": "00251434-cadb-4af1-91d1-59af0e230e85",
   "metadata": {
    "tags": []
   },
   "outputs": [
    {
     "name": "stdout",
     "output_type": "stream",
     "text": [
      "Transformed Test Data Shape: (1, 1)\n"
     ]
    }
   ],
   "source": [
    "import pandas as pd\n",
    "from sklearn.feature_extraction.text import CountVectorizer\n",
    "from sklearn.model_selection import train_test_split\n",
    "\n",
    "# Example: Create a DataFrame 'df' with a column 'text' and 'target'\n",
    "data = {'text': ['sentence 1', 'sentence 2', 'sentence 3'],\n",
    "        'target': ['label_A', 'label_B', 'label_A']}\n",
    "\n",
    "df = pd.DataFrame(data)\n",
    "\n",
    "# Split the data into training and testing sets\n",
    "X_train, X_test, y_train, y_test = train_test_split(df['text'], df['target'], test_size=0.2, random_state=42)\n",
    "\n",
    "# Initialize the CountVectorizer\n",
    "cv = CountVectorizer()\n",
    "\n",
    "# Fit and transform the training data\n",
    "X_train_transformed = cv.fit_transform(X_train)\n",
    "\n",
    "# Transform the test data using the previously defined CountVectorizer\n",
    "X_test_transformed = cv.transform(X_test)\n",
    "\n",
    "# Display the shape of the transformed test data\n",
    "print(\"Transformed Test Data Shape:\", X_test_transformed.shape)\n"
   ]
  },
  {
   "cell_type": "markdown",
   "id": "5557acc6-71ad-494b-ac93-47c5cfcae673",
   "metadata": {},
   "source": [
    "### Train Test Splitting\n",
    "\n",
    "Creating the training set, for training the model"
   ]
  },
  {
   "cell_type": "code",
   "execution_count": 28,
   "id": "c21f1068-1bc5-4275-853e-e4a7086f5850",
   "metadata": {
    "tags": []
   },
   "outputs": [],
   "source": [
    "x_train, x_test, y_train, y_test = train_test_split(X, y, test_size = 0.20, random_state=0)"
   ]
  },
  {
   "cell_type": "markdown",
   "id": "fdfd4ea9-af41-4a3d-929d-941c30b1831f",
   "metadata": {},
   "source": [
    "#  Modeling\n",
    "\n",
    "\n",
    "We train our model uisng different models(only 3 used ) from the training set and later predict the output for the test set. using the classification report."
   ]
  },
  {
   "cell_type": "markdown",
   "id": "498f9a17-cc2c-4d4b-85f4-722834542ffe",
   "metadata": {},
   "source": [
    "### Random Forest  \n",
    "Random forest is a bagging technique and not a boosting technique. The trees in random forests run in parallel"
   ]
  },
  {
   "cell_type": "code",
   "execution_count": 16,
   "id": "658336ad-ce3d-4045-9c78-56651e5deccc",
   "metadata": {
    "tags": []
   },
   "outputs": [
    {
     "name": "stdout",
     "output_type": "stream",
     "text": [
      "Accuracy is : 0.9874242424242424\n",
      "Report is :               precision    recall  f1-score   support\n",
      "\n",
      "         afr       1.00      1.00      1.00       587\n",
      "         eng       0.99      1.00      1.00       574\n",
      "         nbl       0.98      0.96      0.97       613\n",
      "         nso       1.00      1.00      1.00       570\n",
      "         sot       1.00      0.99      1.00       600\n",
      "         ssw       0.99      0.96      0.98       624\n",
      "         tsn       0.99      1.00      1.00       581\n",
      "         tso       1.00      1.00      1.00       597\n",
      "         ven       1.00      1.00      1.00       599\n",
      "         xho       0.98      0.98      0.98       621\n",
      "         zul       0.93      0.97      0.95       634\n",
      "\n",
      "    accuracy                           0.99      6600\n",
      "   macro avg       0.99      0.99      0.99      6600\n",
      "weighted avg       0.99      0.99      0.99      6600\n",
      "\n"
     ]
    }
   ],
   "source": [
    "# Create Random Forest classifer object\n",
    "ref_clf = RandomForestClassifier(n_estimators=100)\n",
    "# Fit/Train Random Forest Classifer on training set\n",
    "ref_clf.fit(x_train,y_train) \n",
    "\n",
    "#predict y labels\n",
    "y_pred5 = ref_clf.predict(x_test)\n",
    "\n",
    "#metrics report\n",
    "acs = accuracy_score(y_test, y_pred5)\n",
    "#classification report\n",
    "report = classification_report(y_test,y_pred5)\n",
    "\n",
    "print(\"Accuracy is :\",acs)\n",
    "print(\"Report is :\",report)"
   ]
  },
  {
   "cell_type": "markdown",
   "id": "1dd86c0f-0d30-4dba-956f-b49dbe1a1983",
   "metadata": {},
   "source": [
    "### Logistics Regression\n",
    " Machine Learning classification algorithm that is used to predict the probability of a categorical dependent variable"
   ]
  },
  {
   "cell_type": "code",
   "execution_count": 29,
   "id": "33d0466b-46d8-47a2-a98d-bcbc94d91568",
   "metadata": {
    "tags": []
   },
   "outputs": [
    {
     "name": "stdout",
     "output_type": "stream",
     "text": [
      "Accuracy is : 0.9953030303030304\n",
      "Report is :               precision    recall  f1-score   support\n",
      "\n",
      "         afr       1.00      1.00      1.00       587\n",
      "         eng       1.00      1.00      1.00       574\n",
      "         nbl       0.99      0.99      0.99       613\n",
      "         nso       1.00      1.00      1.00       570\n",
      "         sot       1.00      0.99      1.00       600\n",
      "         ssw       0.99      1.00      0.99       624\n",
      "         tsn       1.00      1.00      1.00       581\n",
      "         tso       1.00      1.00      1.00       597\n",
      "         ven       1.00      1.00      1.00       599\n",
      "         xho       1.00      0.99      0.99       621\n",
      "         zul       0.98      0.98      0.98       634\n",
      "\n",
      "    accuracy                           1.00      6600\n",
      "   macro avg       1.00      1.00      1.00      6600\n",
      "weighted avg       1.00      1.00      1.00      6600\n",
      "\n"
     ]
    }
   ],
   "source": [
    "# Creating a logistics regression\n",
    "LRmodel = LogisticRegression(C = 2, max_iter = 1000, n_jobs=-1)\n",
    "#fit the train data\n",
    "LRmodel.fit(x_train, y_train)\n",
    "#predict y labels\n",
    "y_pred2 = LRmodel.predict(x_test)\n",
    "\n",
    "#metrics report\n",
    "acs = accuracy_score(y_test, y_pred2)\n",
    "#classification report\n",
    "report = classification_report(y_test,y_pred2)\n",
    "\n",
    "print(\"Accuracy is :\",acs)\n",
    "print(\"Report is :\",report)"
   ]
  },
  {
   "cell_type": "markdown",
   "id": "e812b773-6da0-458e-bbc1-6d3ab23ebe67",
   "metadata": {},
   "source": [
    "### BernoulliNB model\n",
    "it only describes whether or not an event occurred "
   ]
  },
  {
   "cell_type": "code",
   "execution_count": 30,
   "id": "42e66b68-3434-4a70-9c51-d66d39a36b2e",
   "metadata": {
    "tags": []
   },
   "outputs": [
    {
     "name": "stdout",
     "output_type": "stream",
     "text": [
      "Accuracy is : 0.9993939393939394\n",
      "Report is :               precision    recall  f1-score   support\n",
      "\n",
      "         afr       1.00      1.00      1.00       587\n",
      "         eng       1.00      1.00      1.00       574\n",
      "         nbl       1.00      1.00      1.00       613\n",
      "         nso       1.00      1.00      1.00       570\n",
      "         sot       1.00      1.00      1.00       600\n",
      "         ssw       1.00      1.00      1.00       624\n",
      "         tsn       1.00      1.00      1.00       581\n",
      "         tso       1.00      1.00      1.00       597\n",
      "         ven       1.00      1.00      1.00       599\n",
      "         xho       1.00      1.00      1.00       621\n",
      "         zul       1.00      1.00      1.00       634\n",
      "\n",
      "    accuracy                           1.00      6600\n",
      "   macro avg       1.00      1.00      1.00      6600\n",
      "weighted avg       1.00      1.00      1.00      6600\n",
      "\n"
     ]
    }
   ],
   "source": [
    "BNBmodel = BernoulliNB()\n",
    "BNBmodel.fit(x_train, y_train)\n",
    "y_pred3 = BNBmodel.predict(x_test)\n",
    "\n",
    "#metrics report\n",
    "acs = accuracy_score(y_test, y_pred3)\n",
    "#classification report\n",
    "report = classification_report(y_test,y_pred3)\n",
    "\n",
    "print(\"Accuracy is :\",acs)\n",
    "print(\"Report is :\",report)"
   ]
  },
  {
   "cell_type": "code",
   "execution_count": 17,
   "id": "9e39baee-3c7f-4cb7-8db7-4bc98fcbdf08",
   "metadata": {
    "tags": []
   },
   "outputs": [
    {
     "ename": "NameError",
     "evalue": "name 'x_train' is not defined",
     "output_type": "error",
     "traceback": [
      "\u001b[1;31m---------------------------------------------------------------------------\u001b[0m",
      "\u001b[1;31mNameError\u001b[0m                                 Traceback (most recent call last)",
      "Cell \u001b[1;32mIn[17], line 7\u001b[0m\n\u001b[0;32m      4\u001b[0m \u001b[38;5;66;03m# Assuming x_train, y_train, X_test, y_test are your training and testing data\u001b[39;00m\n\u001b[0;32m      5\u001b[0m \u001b[38;5;66;03m# Create and train the Bernoulli Naive Bayes model\u001b[39;00m\n\u001b[0;32m      6\u001b[0m BNBmodel \u001b[38;5;241m=\u001b[39m BernoulliNB()\n\u001b[1;32m----> 7\u001b[0m BNBmodel\u001b[38;5;241m.\u001b[39mfit(x_train, y_train)\n\u001b[0;32m      9\u001b[0m \u001b[38;5;66;03m# Make predictions on the test set\u001b[39;00m\n\u001b[0;32m     10\u001b[0m y_pred3 \u001b[38;5;241m=\u001b[39m BNBmodel\u001b[38;5;241m.\u001b[39mpredict(X_test)\n",
      "\u001b[1;31mNameError\u001b[0m: name 'x_train' is not defined"
     ]
    }
   ],
   "source": [
    "from sklearn.naive_bayes import BernoulliNB\n",
    "from sklearn.metrics import accuracy_score, classification_report\n",
    "\n",
    "# Assuming x_train, y_train, X_test, y_test are your training and testing data\n",
    "# Create and train the Bernoulli Naive Bayes model\n",
    "BNBmodel = BernoulliNB()\n",
    "BNBmodel.fit(x_train, y_train)\n",
    "\n",
    "# Make predictions on the test set\n",
    "y_pred3 = BNBmodel.predict(X_test)\n",
    "\n",
    "# Metrics report\n",
    "acs = accuracy_score(y_test, y_pred3)\n",
    "\n",
    "# Classification report\n",
    "report = classification_report(y_test, y_pred3)\n",
    "\n",
    "print(\"Accuracy is:\", acs)\n",
    "print(\"Report is:\", report)\n"
   ]
  },
  {
   "cell_type": "markdown",
   "id": "233ee328-9881-41e7-a0fd-4f6acc143510",
   "metadata": {},
   "source": [
    "Now we are comparing the model perfomance of the models defined above ,which are also  the names of the models appear below"
   ]
  },
  {
   "cell_type": "code",
   "execution_count": 34,
   "id": "a5d73015-c5d9-4f10-a588-1002b31ec6a2",
   "metadata": {
    "tags": []
   },
   "outputs": [],
   "source": [
    "#names of the models perfomed as a list\n",
    "names = [ 'Random Forest',\n",
    "         'LogisticRegression', 'BernoulliNB',\n",
    "         ]"
   ]
  },
  {
   "cell_type": "code",
   "execution_count": 35,
   "id": "18b3994b-76ff-49ee-ad4d-d7ad55ad2117",
   "metadata": {
    "tags": []
   },
   "outputs": [],
   "source": [
    "#list of the models\n",
    "classifiers = [\n",
    "    RandomForestClassifier(n_estimators=100),\n",
    "    LogisticRegression(C = 2, max_iter = 1000, n_jobs=-1),\n",
    "    BernoulliNB()\n",
    "    ]"
   ]
  },
  {
   "cell_type": "code",
   "execution_count": 45,
   "id": "bdb13d13-44d8-4e20-997a-ce2745a3c425",
   "metadata": {
    "tags": []
   },
   "outputs": [
    {
     "name": "stdout",
     "output_type": "stream",
     "text": [
      "Fitting Random Forest model...\n",
      "... predicting\n",
      "... scoring\n",
      "\n",
      "Classification Report for Random Forest:\n",
      "\n",
      "              precision    recall  f1-score   support\n",
      "\n",
      "         afr       1.00      1.00      1.00        97\n",
      "         eng       1.00      1.00      1.00        81\n",
      "         nbl       1.00      1.00      1.00        74\n",
      "         nso       1.00      1.00      1.00        87\n",
      "         sot       1.00      1.00      1.00       105\n",
      "         ssw       1.00      1.00      1.00        82\n",
      "         tsn       1.00      1.00      1.00        96\n",
      "         tso       1.00      1.00      1.00       102\n",
      "         ven       1.00      1.00      1.00        83\n",
      "         xho       1.00      1.00      1.00        98\n",
      "         zul       1.00      1.00      1.00        95\n",
      "\n",
      "    accuracy                           1.00      1000\n",
      "   macro avg       1.00      1.00      1.00      1000\n",
      "weighted avg       1.00      1.00      1.00      1000\n",
      "\n",
      "\n",
      "Confusion Matrix for Random Forest:\n",
      "\n",
      "[[ 97   0   0   0   0   0   0   0   0   0   0]\n",
      " [  0  81   0   0   0   0   0   0   0   0   0]\n",
      " [  0   0  74   0   0   0   0   0   0   0   0]\n",
      " [  0   0   0  87   0   0   0   0   0   0   0]\n",
      " [  0   0   0   0 105   0   0   0   0   0   0]\n",
      " [  0   0   0   0   0  82   0   0   0   0   0]\n",
      " [  0   0   0   0   0   0  96   0   0   0   0]\n",
      " [  0   0   0   0   0   0   0 102   0   0   0]\n",
      " [  0   0   0   0   0   0   0   0  83   0   0]\n",
      " [  0   0   0   0   0   0   0   0   0  98   0]\n",
      " [  0   0   0   0   0   0   0   0   0   0  95]]\n",
      "Fitting LogisticRegression model...\n",
      "... predicting\n",
      "... scoring\n",
      "\n",
      "Classification Report for LogisticRegression:\n",
      "\n",
      "              precision    recall  f1-score   support\n",
      "\n",
      "         afr       1.00      1.00      1.00        97\n",
      "         eng       1.00      1.00      1.00        81\n",
      "         nbl       1.00      1.00      1.00        74\n",
      "         nso       1.00      1.00      1.00        87\n",
      "         sot       1.00      1.00      1.00       105\n",
      "         ssw       1.00      1.00      1.00        82\n",
      "         tsn       1.00      1.00      1.00        96\n",
      "         tso       1.00      1.00      1.00       102\n",
      "         ven       1.00      1.00      1.00        83\n",
      "         xho       1.00      1.00      1.00        98\n",
      "         zul       1.00      1.00      1.00        95\n",
      "\n",
      "    accuracy                           1.00      1000\n",
      "   macro avg       1.00      1.00      1.00      1000\n",
      "weighted avg       1.00      1.00      1.00      1000\n",
      "\n",
      "\n",
      "Confusion Matrix for LogisticRegression:\n",
      "\n",
      "[[ 97   0   0   0   0   0   0   0   0   0   0]\n",
      " [  0  81   0   0   0   0   0   0   0   0   0]\n",
      " [  0   0  74   0   0   0   0   0   0   0   0]\n",
      " [  0   0   0  87   0   0   0   0   0   0   0]\n",
      " [  0   0   0   0 105   0   0   0   0   0   0]\n",
      " [  0   0   0   0   0  82   0   0   0   0   0]\n",
      " [  0   0   0   0   0   0  96   0   0   0   0]\n",
      " [  0   0   0   0   0   0   0 102   0   0   0]\n",
      " [  0   0   0   0   0   0   0   0  83   0   0]\n",
      " [  0   0   0   0   0   0   0   0   0  98   0]\n",
      " [  0   0   0   0   0   0   0   0   0   0  95]]\n",
      "Fitting BernoulliNB model...\n",
      "... predicting\n",
      "... scoring\n",
      "\n",
      "Classification Report for BernoulliNB:\n",
      "\n",
      "              precision    recall  f1-score   support\n",
      "\n",
      "         afr       0.00      0.00      0.00        97\n",
      "         eng       0.00      0.00      0.00        81\n",
      "         nbl       0.00      0.00      0.00        74\n",
      "         nso       0.00      0.00      0.00        87\n",
      "         sot       0.12      1.00      0.21       105\n",
      "         ssw       0.00      0.00      0.00        82\n",
      "         tsn       0.00      0.00      0.00        96\n",
      "         tso       1.00      0.99      1.00       102\n",
      "         ven       0.00      0.00      0.00        83\n",
      "         xho       0.00      0.00      0.00        98\n",
      "         zul       0.00      0.00      0.00        95\n",
      "\n",
      "    accuracy                           0.21      1000\n",
      "   macro avg       0.10      0.18      0.11      1000\n",
      "weighted avg       0.11      0.21      0.12      1000\n",
      "\n",
      "\n",
      "Confusion Matrix for BernoulliNB:\n",
      "\n",
      "[[  0   0   0   0  97   0   0   0   0   0   0]\n",
      " [  0   0   0   0  81   0   0   0   0   0   0]\n",
      " [  0   0   0   0  74   0   0   0   0   0   0]\n",
      " [  0   0   0   0  87   0   0   0   0   0   0]\n",
      " [  0   0   0   0 105   0   0   0   0   0   0]\n",
      " [  0   0   0   0  82   0   0   0   0   0   0]\n",
      " [  0   0   0   0  96   0   0   0   0   0   0]\n",
      " [  0   0   0   0   1   0   0 101   0   0   0]\n",
      " [  0   0   0   0  83   0   0   0   0   0   0]\n",
      " [  0   0   0   0  98   0   0   0   0   0   0]\n",
      " [  0   0   0   0  95   0   0   0   0   0   0]]\n",
      "FINISHED!\n"
     ]
    },
    {
     "name": "stderr",
     "output_type": "stream",
     "text": [
      "C:\\Users\\Felicia Vilakazi\\anaconda3\\Lib\\site-packages\\sklearn\\metrics\\_classification.py:1469: UndefinedMetricWarning: Precision and F-score are ill-defined and being set to 0.0 in labels with no predicted samples. Use `zero_division` parameter to control this behavior.\n",
      "  _warn_prf(average, modifier, msg_start, len(result))\n",
      "C:\\Users\\Felicia Vilakazi\\anaconda3\\Lib\\site-packages\\sklearn\\metrics\\_classification.py:1469: UndefinedMetricWarning: Precision and F-score are ill-defined and being set to 0.0 in labels with no predicted samples. Use `zero_division` parameter to control this behavior.\n",
      "  _warn_prf(average, modifier, msg_start, len(result))\n",
      "C:\\Users\\Felicia Vilakazi\\anaconda3\\Lib\\site-packages\\sklearn\\metrics\\_classification.py:1469: UndefinedMetricWarning: Precision and F-score are ill-defined and being set to 0.0 in labels with no predicted samples. Use `zero_division` parameter to control this behavior.\n",
      "  _warn_prf(average, modifier, msg_start, len(result))\n"
     ]
    }
   ],
   "source": [
    "import pandas as pd\n",
    "import numpy as np\n",
    "from sklearn import metrics\n",
    "from sklearn.model_selection import train_test_split\n",
    "from sklearn.linear_model import LogisticRegression\n",
    "\n",
    "# Assuming you have 'names' and 'classifiers' defined somewhere in your code\n",
    "# names = [...]  # List of classifier names\n",
    "# classifiers = [...]  # List of classifier instances\n",
    "\n",
    "# Sample data to reduce memory usage\n",
    "sample_size = 1000  # Adjust the sample size as needed\n",
    "x_train_sample, _, y_train_sample, _ = train_test_split(x_train, y_train, train_size=sample_size, random_state=42)\n",
    "\n",
    "# Creating the list\n",
    "results = []\n",
    "\n",
    "models = {}\n",
    "confusion = {}\n",
    "class_report = {}\n",
    "\n",
    "for name, clf in zip(names, classifiers):\n",
    "    print('Fitting {:s} model...'.format(name))\n",
    "\n",
    "    # Check if the data is not empty\n",
    "    if x_train_sample.shape[0] == 0:\n",
    "        print('Data is empty for {:s}. Skipping...'.format(name))\n",
    "        continue\n",
    "\n",
    "    # Training the model\n",
    "    clf.fit(x_train_sample, y_train_sample)\n",
    "\n",
    "    print('... predicting')\n",
    "    y_pred = clf.predict(x_train_sample)\n",
    "    y_pred_test = clf.predict(x_test)\n",
    "\n",
    "    print('... scoring')\n",
    "    accuracy = metrics.accuracy_score(y_train_sample, y_pred)\n",
    "    precision = metrics.precision_score(y_train_sample, y_pred, average='weighted', zero_division=1)\n",
    "    recall = metrics.recall_score(y_train_sample, y_pred, average='weighted', zero_division=1)\n",
    "\n",
    "    f1 = metrics.f1_score(y_train_sample, y_pred, average='weighted', zero_division=1)\n",
    "    f1_test = metrics.f1_score(y_test, y_pred_test, average='weighted', zero_division=1)\n",
    "\n",
    "    # Save the results to dictionaries\n",
    "    models[name] = clf\n",
    "    confusion[name] = metrics.confusion_matrix(y_train_sample, y_pred)\n",
    "    class_report[name] = metrics.classification_report(y_train_sample, y_pred)\n",
    "\n",
    "    results.append([name, accuracy, precision, recall, f1, f1_test])\n",
    "\n",
    "    # Print classification report and confusion matrix\n",
    "    print('\\nClassification Report for {:s}:\\n'.format(name))\n",
    "    print(class_report[name])\n",
    "    print('\\nConfusion Matrix for {:s}:\\n'.format(name))\n",
    "    print(confusion[name])\n",
    "\n",
    "results_df = pd.DataFrame(results, columns=['Classifier', 'Accuracy', 'Precision', 'Recall', 'F1 Train', 'F1 Test'])\n",
    "results_df.set_index('Classifier', inplace=True)\n",
    "\n",
    "print('FINISHED!')\n"
   ]
  },
  {
   "cell_type": "code",
   "execution_count": 47,
   "id": "895737f4-ebcc-4aca-af49-aead12cfca94",
   "metadata": {
    "tags": []
   },
   "outputs": [
    {
     "name": "stdout",
     "output_type": "stream",
     "text": [
      "Fitting Random Forest model...\n",
      "... predicting\n",
      "... scoring\n",
      "\n",
      "Classification Report for Random Forest:\n",
      "\n",
      "              precision    recall  f1-score   support\n",
      "\n",
      "         afr       1.00      1.00      1.00        97\n",
      "         eng       1.00      1.00      1.00        81\n",
      "         nbl       1.00      1.00      1.00        74\n",
      "         nso       1.00      1.00      1.00        87\n",
      "         sot       1.00      1.00      1.00       105\n",
      "         ssw       1.00      1.00      1.00        82\n",
      "         tsn       1.00      1.00      1.00        96\n",
      "         tso       1.00      1.00      1.00       102\n",
      "         ven       1.00      1.00      1.00        83\n",
      "         xho       1.00      1.00      1.00        98\n",
      "         zul       1.00      1.00      1.00        95\n",
      "\n",
      "    accuracy                           1.00      1000\n",
      "   macro avg       1.00      1.00      1.00      1000\n",
      "weighted avg       1.00      1.00      1.00      1000\n",
      "\n",
      "\n",
      "Confusion Matrix for Random Forest:\n",
      "\n",
      "[[ 97   0   0   0   0   0   0   0   0   0   0]\n",
      " [  0  81   0   0   0   0   0   0   0   0   0]\n",
      " [  0   0  74   0   0   0   0   0   0   0   0]\n",
      " [  0   0   0  87   0   0   0   0   0   0   0]\n",
      " [  0   0   0   0 105   0   0   0   0   0   0]\n",
      " [  0   0   0   0   0  82   0   0   0   0   0]\n",
      " [  0   0   0   0   0   0  96   0   0   0   0]\n",
      " [  0   0   0   0   0   0   0 102   0   0   0]\n",
      " [  0   0   0   0   0   0   0   0  83   0   0]\n",
      " [  0   0   0   0   0   0   0   0   0  98   0]\n",
      " [  0   0   0   0   0   0   0   0   0   0  95]]\n",
      "Fitting LogisticRegression model...\n",
      "... predicting\n",
      "... scoring\n",
      "\n",
      "Classification Report for LogisticRegression:\n",
      "\n",
      "              precision    recall  f1-score   support\n",
      "\n",
      "         afr       1.00      1.00      1.00        97\n",
      "         eng       1.00      1.00      1.00        81\n",
      "         nbl       1.00      1.00      1.00        74\n",
      "         nso       1.00      1.00      1.00        87\n",
      "         sot       1.00      1.00      1.00       105\n",
      "         ssw       1.00      1.00      1.00        82\n",
      "         tsn       1.00      1.00      1.00        96\n",
      "         tso       1.00      1.00      1.00       102\n",
      "         ven       1.00      1.00      1.00        83\n",
      "         xho       1.00      1.00      1.00        98\n",
      "         zul       1.00      1.00      1.00        95\n",
      "\n",
      "    accuracy                           1.00      1000\n",
      "   macro avg       1.00      1.00      1.00      1000\n",
      "weighted avg       1.00      1.00      1.00      1000\n",
      "\n",
      "\n",
      "Confusion Matrix for LogisticRegression:\n",
      "\n",
      "[[ 97   0   0   0   0   0   0   0   0   0   0]\n",
      " [  0  81   0   0   0   0   0   0   0   0   0]\n",
      " [  0   0  74   0   0   0   0   0   0   0   0]\n",
      " [  0   0   0  87   0   0   0   0   0   0   0]\n",
      " [  0   0   0   0 105   0   0   0   0   0   0]\n",
      " [  0   0   0   0   0  82   0   0   0   0   0]\n",
      " [  0   0   0   0   0   0  96   0   0   0   0]\n",
      " [  0   0   0   0   0   0   0 102   0   0   0]\n",
      " [  0   0   0   0   0   0   0   0  83   0   0]\n",
      " [  0   0   0   0   0   0   0   0   0  98   0]\n",
      " [  0   0   0   0   0   0   0   0   0   0  95]]\n",
      "Fitting BernoulliNB model...\n",
      "... predicting\n",
      "... scoring\n",
      "\n",
      "Classification Report for BernoulliNB:\n",
      "\n",
      "              precision    recall  f1-score   support\n",
      "\n",
      "         afr       0.00      0.00      0.00        97\n",
      "         eng       0.00      0.00      0.00        81\n",
      "         nbl       0.00      0.00      0.00        74\n",
      "         nso       0.00      0.00      0.00        87\n",
      "         sot       0.12      1.00      0.21       105\n",
      "         ssw       0.00      0.00      0.00        82\n",
      "         tsn       0.00      0.00      0.00        96\n",
      "         tso       1.00      0.99      1.00       102\n",
      "         ven       0.00      0.00      0.00        83\n",
      "         xho       0.00      0.00      0.00        98\n",
      "         zul       0.00      0.00      0.00        95\n",
      "\n",
      "    accuracy                           0.21      1000\n",
      "   macro avg       0.10      0.18      0.11      1000\n",
      "weighted avg       0.11      0.21      0.12      1000\n",
      "\n",
      "\n",
      "Confusion Matrix for BernoulliNB:\n",
      "\n",
      "[[  0   0   0   0  97   0   0   0   0   0   0]\n",
      " [  0   0   0   0  81   0   0   0   0   0   0]\n",
      " [  0   0   0   0  74   0   0   0   0   0   0]\n",
      " [  0   0   0   0  87   0   0   0   0   0   0]\n",
      " [  0   0   0   0 105   0   0   0   0   0   0]\n",
      " [  0   0   0   0  82   0   0   0   0   0   0]\n",
      " [  0   0   0   0  96   0   0   0   0   0   0]\n",
      " [  0   0   0   0   1   0   0 101   0   0   0]\n",
      " [  0   0   0   0  83   0   0   0   0   0   0]\n",
      " [  0   0   0   0  98   0   0   0   0   0   0]\n",
      " [  0   0   0   0  95   0   0   0   0   0   0]]\n",
      "FINISHED!\n"
     ]
    },
    {
     "name": "stderr",
     "output_type": "stream",
     "text": [
      "C:\\Users\\Felicia Vilakazi\\anaconda3\\Lib\\site-packages\\sklearn\\metrics\\_classification.py:1469: UndefinedMetricWarning: Precision and F-score are ill-defined and being set to 0.0 in labels with no predicted samples. Use `zero_division` parameter to control this behavior.\n",
      "  _warn_prf(average, modifier, msg_start, len(result))\n",
      "C:\\Users\\Felicia Vilakazi\\anaconda3\\Lib\\site-packages\\sklearn\\metrics\\_classification.py:1469: UndefinedMetricWarning: Precision and F-score are ill-defined and being set to 0.0 in labels with no predicted samples. Use `zero_division` parameter to control this behavior.\n",
      "  _warn_prf(average, modifier, msg_start, len(result))\n",
      "C:\\Users\\Felicia Vilakazi\\anaconda3\\Lib\\site-packages\\sklearn\\metrics\\_classification.py:1469: UndefinedMetricWarning: Precision and F-score are ill-defined and being set to 0.0 in labels with no predicted samples. Use `zero_division` parameter to control this behavior.\n",
      "  _warn_prf(average, modifier, msg_start, len(result))\n"
     ]
    }
   ],
   "source": [
    "import pandas as pd\n",
    "import numpy as np\n",
    "from sklearn import metrics\n",
    "from sklearn.model_selection import train_test_split\n",
    "from sklearn.linear_model import LogisticRegression\n",
    "\n",
    "# Assuming you have 'names' and 'classifiers' defined somewhere in your code\n",
    "# names = [...]  # List of classifier names\n",
    "# classifiers = [...]  # List of classifier instances\n",
    "\n",
    "# Sample data to reduce memory usage\n",
    "sample_size = 1000  # Adjust the sample size as needed\n",
    "x_train_sample, _, y_train_sample, _ = train_test_split(x_train, y_train, train_size=sample_size, random_state=42)\n",
    "\n",
    "# Creating the list\n",
    "results = []\n",
    "\n",
    "models = {}\n",
    "confusion = {}\n",
    "class_report = {}\n",
    "\n",
    "for name, clf in zip(names, classifiers):\n",
    "    print('Fitting {:s} model...'.format(name))\n",
    "\n",
    "    # Check if the data is not empty\n",
    "    if x_train_sample.shape[0] == 0:\n",
    "        print('Data is empty for {:s}. Skipping...'.format(name))\n",
    "        continue\n",
    "\n",
    "    # Training the model\n",
    "    clf.fit(x_train_sample, y_train_sample)\n",
    "\n",
    "    print('... predicting')\n",
    "    y_pred = clf.predict(x_train_sample)\n",
    "    y_pred_test = clf.predict(x_test)\n",
    "\n",
    "    print('... scoring')\n",
    "    accuracy = metrics.accuracy_score(y_train_sample, y_pred)\n",
    "    precision = metrics.precision_score(y_train_sample, y_pred, average='weighted', zero_division=1)\n",
    "    recall = metrics.recall_score(y_train_sample, y_pred, average='weighted', zero_division=1)\n",
    "\n",
    "    f1 = metrics.f1_score(y_train_sample, y_pred, average='weighted', zero_division=1)\n",
    "    f1_test = metrics.f1_score(y_test, y_pred_test, average='weighted', zero_division=1)\n",
    "\n",
    "    # Save the results to dictionaries\n",
    "    models[name] = clf\n",
    "    confusion[name] = metrics.confusion_matrix(y_train_sample, y_pred)\n",
    "    class_report[name] = metrics.classification_report(y_train_sample, y_pred)\n",
    "\n",
    "    results.append([name, accuracy, precision, recall, f1, f1_test])\n",
    "\n",
    "    # Print classification report and confusion matrix\n",
    "    print('\\nClassification Report for {:s}:\\n'.format(name))\n",
    "    print(class_report[name])\n",
    "    print('\\nConfusion Matrix for {:s}:\\n'.format(name))\n",
    "    print(confusion[name])\n",
    "\n",
    "results_df = pd.DataFrame(results, columns=['Classifier', 'Accuracy', 'Precision', 'Recall', 'F1 Train', 'F1 Test'])\n",
    "results_df.set_index('Classifier', inplace=True)\n",
    "\n",
    "# Sort the DataFrame by 'F1 Train' column\n",
    "sorted_results_df = results_df.sort_values('F1 Train', ascending=False)\n",
    "\n",
    "print('FINISHED!')\n"
   ]
  },
  {
   "cell_type": "markdown",
   "id": "a961817e-ae06-4ce6-8e6e-37c68dbccb35",
   "metadata": {},
   "source": [
    "# Model perfomance"
   ]
  },
  {
   "cell_type": "code",
   "execution_count": 60,
   "id": "c89223a8-57d4-431c-8af1-de122e062958",
   "metadata": {
    "tags": []
   },
   "outputs": [
    {
     "name": "stdout",
     "output_type": "stream",
     "text": [
      "                    Accuracy  Precision  Recall  F1 Train   F1 Test\n",
      "Classifier                                                         \n",
      "Random Forest          1.000   1.000000   1.000   1.00000  0.946702\n",
      "LogisticRegression     1.000   1.000000   1.000   1.00000  0.961257\n",
      "BernoulliNB            0.206   0.907264   0.206   0.12346  0.104157\n"
     ]
    }
   ],
   "source": [
    "# Assuming results is a list of lists\n",
    "# results = [...]\n",
    "\n",
    "# Convert the list to a DataFrame\n",
    "results_df = pd.DataFrame(results, columns=['Classifier', 'Accuracy', 'Precision', 'Recall', 'F1 Train', 'F1 Test'])\n",
    "results_df.set_index('Classifier', inplace=True)\n",
    "\n",
    "# Sort the DataFrame by 'F1 Train' column\n",
    "sorted_results_df = results_df.sort_values('F1 Train', ascending=False)\n",
    "\n",
    "# Display the sorted DataFrame\n",
    "print(sorted_results_df)\n"
   ]
  },
  {
   "cell_type": "markdown",
   "id": "404e17c6-2fa9-45ef-a0d9-e17ba65f5fdc",
   "metadata": {},
   "source": [
    "we found that accuracy of the BernuolliNB model performance  is the best at 0.9998 indicating our model is performing well.\n"
   ]
  },
  {
   "cell_type": "code",
   "execution_count": 50,
   "id": "5549de1a-bc51-48a4-8c52-2728f49beb85",
   "metadata": {
    "tags": []
   },
   "outputs": [
    {
     "data": {
      "image/png": "[encoded data removed]",
      "text/plain": [
       "<Figure size 1000x1000 with 2 Axes>"
      ]
     },
     "metadata": {},
     "output_type": "display_data"
    }
   ],
   "source": [
    "#Ploting the confusion matrix \n",
    "plt.figure(figsize=(10,10))\n",
    "sns.heatmap(confusion['BernoulliNB'], annot = True)\n",
    "plt.title('confusion matrix of BernoulliNB')\n",
    "plt.show()"
   ]
  },
  {
   "cell_type": "markdown",
   "id": "9d3a7c89-100f-4c57-a56f-3398ee05bf76",
   "metadata": {},
   "source": [
    "# kaggle submission"
   ]
  },
  {
   "cell_type": "code",
   "execution_count": 31,
   "id": "9f6d9bee-c707-48d8-a861-a2b11488153e",
   "metadata": {
    "tags": []
   },
   "outputs": [],
   "source": [
    "from sklearn.feature_extraction.text import TfidfVectorizer\n",
    "from sklearn.naive_bayes import GaussianNB"
   ]
  },
  {
   "cell_type": "code",
   "execution_count": 35,
   "id": "27c874e2-1d7e-4190-ac6a-fbf12f97c45b",
   "metadata": {
    "tags": []
   },
   "outputs": [],
   "source": [
    "from sklearn.feature_extraction.text import TfidfVectorizer\n",
    "from sklearn.naive_bayes import MultinomialNB\n",
    "import pandas as pd\n",
    "\n",
    "# Load your training data\n",
    "train_df = pd.read_csv('train_set.csv')  # Replace 'train_set.csv' with your actual training data file\n",
    "\n",
    "# Create and fit the TfidfVectorizer on the training data\n",
    "vectorizer = TfidfVectorizer()\n",
    "X_train = vectorizer.fit_transform(train_df['text'])\n",
    "\n",
    "# Train a Naive Bayes model (MultinomialNB) on the training data\n",
    "NaiveB = MultinomialNB()\n",
    "\n",
    "# Replace 'your_actual_target_column_name' with the actual column name containing the class labels\n",
    "NaiveB.fit(X_train, train_df['lang_id'])\n",
    "\n",
    "# Load your test data\n",
    "test_df = pd.read_csv('test_set.csv')  # Replace 'test_set.csv' with your actual test data file\n",
    "\n",
    "# Converting the test data into TF-IDF vectors using the fitted vectorizer\n",
    "X_test = vectorizer.transform(test_df['text'])\n",
    "\n",
    "# Generating predictions on the best-performing model (MultinomialNB)\n",
    "test_predictions = NaiveB.predict(X_test)\n"
   ]
  },
  {
   "cell_type": "code",
   "execution_count": 36,
   "id": "39827c81-ea6e-451c-87e1-88876974232a",
   "metadata": {
    "tags": []
   },
   "outputs": [],
   "source": [
    "# Creating a submission dataframe with 'index' and 'lang_id' columns\n",
    "submission_df = pd.DataFrame({'index': test_df['index'], 'lang_id': test_predictions})\n",
    "\n",
    "submission_df.to_csv('Submission.csv', index=False)"
   ]
  },
  {
   "cell_type": "code",
   "execution_count": null,
   "id": "cd4e4b03-0b39-461b-94d5-a6d66bb7eca5",
   "metadata": {},
   "outputs": [],
   "source": []
  }
 ],
 "metadata": {
  "kernelspec": {
   "display_name": "Python 3 (ipykernel)",
   "language": "python",
   "name": "python3"
  },
  "language_info": {
   "codemirror_mode": {
    "name": "ipython",
    "version": 3
   },
   "file_extension": ".py",
   "mimetype": "text/x-python",
   "name": "python",
   "nbconvert_exporter": "python",
   "pygments_lexer": "ipython3",
   "version": "3.11.5"
  }
 },
 "nbformat": 4,
 "nbformat_minor": 5
}
